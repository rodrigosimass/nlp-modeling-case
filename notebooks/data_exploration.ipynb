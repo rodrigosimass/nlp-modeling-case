{
 "cells": [
  {
   "attachments": {},
   "cell_type": "markdown",
   "metadata": {},
   "source": [
    "# Exploration of the Twitter dataset"
   ]
  },
  {
   "cell_type": "code",
   "execution_count": null,
   "metadata": {},
   "outputs": [],
   "source": [
    "import pandas as pd\n",
    "from IPython.display import display\n",
    "import pandas_profiling"
   ]
  },
  {
   "attachments": {},
   "cell_type": "markdown",
   "metadata": {},
   "source": [
    "## twitter_dataset_full.csv"
   ]
  },
  {
   "cell_type": "code",
   "execution_count": null,
   "metadata": {},
   "outputs": [],
   "source": [
    "df_twitter_full = pd.read_csv(\"../data/twitter_dataset_full.csv\", delimiter=\",\")\n",
    "display(df_twitter_full.head())\n",
    "\n",
    "profile = pandas_profiling.ProfileReport(df_twitter_full)\n",
    "profile.to_file('../data/twitter_dataset_full_profile_report.html')"
   ]
  },
  {
   "attachments": {},
   "cell_type": "markdown",
   "metadata": {},
   "source": [
    "### Main take-aways\n",
    "- __is_postive__ is a almost perfectly balanced binary class (0:799999 vs 1:800000).\n",
    "- __id__ was not unique, which lead me to believe that there were some duplicate rows. Upon further inspection with drop_duplicate() I found out that this is not the case, but that some tweets (10) that are classified as both positive and negative due to their ambiguity.\n",
    "- No __missing values__ in the dataset"
   ]
  },
  {
   "attachments": {},
   "cell_type": "markdown",
   "metadata": {},
   "source": [
    "## dataset_small_w_bart_preds.csv"
   ]
  },
  {
   "cell_type": "code",
   "execution_count": null,
   "metadata": {},
   "outputs": [],
   "source": [
    "df_twitter_small = pd.read_csv(\"../data/dataset_small_w_bart_preds.csv\", delimiter=\",\", float_precision='round_trip')\n",
    "display(df_twitter_small.head())\n",
    "\n",
    "profile = pandas_profiling.ProfileReport(df_twitter_small)\n",
    "profile.to_file('../data/dataset_small_w_bart_preds_profile_report.html')"
   ]
  },
  {
   "attachments": {},
   "cell_type": "markdown",
   "metadata": {},
   "source": [
    "### Main take-aways\n",
    "- __is_postive__ is a almost perfectly balanced binary class (0:9911 vs 1:10089).\n",
    "- __id__ was not unique, because 1 tweet is classified as both positive and negative due to its ambiguity.\n",
    "- the dataset has 1 __missing values__ in the field __message_clean__, this row was removed with dropna()."
   ]
  },
  {
   "cell_type": "code",
   "execution_count": null,
   "metadata": {},
   "outputs": [],
   "source": [
    "df_twitter_small = df_twitter_small.dropna()\n",
    "df_twitter_small.to_csv(\"../data/dataset_small_w_bart_preds_clean.csv\", index=False)"
   ]
  }
 ],
 "metadata": {
  "kernelspec": {
   "display_name": "base",
   "language": "python",
   "name": "python3"
  },
  "language_info": {
   "codemirror_mode": {
    "name": "ipython",
    "version": 3
   },
   "file_extension": ".py",
   "mimetype": "text/x-python",
   "name": "python",
   "nbconvert_exporter": "python",
   "pygments_lexer": "ipython3",
   "version": "3.9.13"
  },
  "orig_nbformat": 4
 },
 "nbformat": 4,
 "nbformat_minor": 2
}
