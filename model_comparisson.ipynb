{
 "cells": [
  {
   "attachments": {},
   "cell_type": "markdown",
   "metadata": {},
   "source": [
    "# Comparisson of proposed solution vs zero-shot BART"
   ]
  },
  {
   "cell_type": "code",
   "execution_count": 54,
   "metadata": {},
   "outputs": [],
   "source": [
    "import pandas as pd\n",
    "import torch\n",
    "from transformers import BartForSequenceClassification, BartTokenizer, __version__ as tv\n",
    "from sklearn.metrics import f1_score\n",
    "from utils.plot import plot_conf_matrix\n",
    "from scripts.TwitterDataset import *\n",
    "import torchvision"
   ]
  },
  {
   "attachments": {},
   "cell_type": "markdown",
   "metadata": {},
   "source": [
    "## BART (baseline)"
   ]
  },
  {
   "attachments": {},
   "cell_type": "markdown",
   "metadata": {},
   "source": [
    "### create instance of pre-trained model"
   ]
  },
  {
   "cell_type": "code",
   "execution_count": 55,
   "metadata": {},
   "outputs": [],
   "source": [
    "DEVICE = \"cpu\"\n",
    "\n",
    "\n",
    "class BartZeroShot:\n",
    "    def __init__(self):\n",
    "        self.nli_model = BartForSequenceClassification.from_pretrained(\n",
    "            \"facebook/bart-large-mnli\"\n",
    "        )\n",
    "        self.nli_model = self.nli_model.to(DEVICE)\n",
    "        self.tokenizer = BartTokenizer.from_pretrained(\"facebook/bart-large-mnli\")\n",
    "\n",
    "    def predict(self, sentence, label):\n",
    "        x = self.tokenizer.encode(\n",
    "            sentence,\n",
    "            f\"this text is {label}\",  # f'This text is about {label}.',\n",
    "            return_tensors=\"pt\",\n",
    "            max_length=self.tokenizer.model_max_length,\n",
    "            truncation=True,\n",
    "            truncation_strategy=\"only_first\",\n",
    "        )\n",
    "\n",
    "        logits = self.nli_model(x.to(DEVICE))[0]\n",
    "\n",
    "        entail_contradiction_logits = logits[:, [0, 2]]\n",
    "        probs = entail_contradiction_logits.softmax(1)\n",
    "        prob_label_is_true = probs[:, 1].item()\n",
    "        return prob_label_is_true\n",
    "\n",
    "bz = BartZeroShot()"
   ]
  },
  {
   "attachments": {},
   "cell_type": "markdown",
   "metadata": {},
   "source": [
    "Measure classification accuracy directly using the columns __is_positive__ and __bart_is_positive__:"
   ]
  },
  {
   "cell_type": "code",
   "execution_count": 56,
   "metadata": {},
   "outputs": [
    {
     "name": "stdout",
     "output_type": "stream",
     "text": [
      "accuracy: 70.3800%\n",
      "f1 score: 0.6563\n"
     ]
    },
    {
     "data": {
      "image/png": "[encoded data removed]",
      "text/plain": [
       "<Figure size 500x500 with 1 Axes>"
      ]
     },
     "metadata": {},
     "output_type": "display_data"
    }
   ],
   "source": [
    "df_twitter_small = pd.read_csv(\"data/raw/dataset_small_w_bart_preds.csv\", delimiter=\",\")\n",
    "df_twitter_small = df_twitter_small[-5000:]\n",
    "\n",
    "y_true = df_twitter_small.is_positive\n",
    "y_predicted = df_twitter_small.bart_is_positive.round() # make output binary\n",
    "\n",
    "acc1 = y_predicted.eq(y_true).sum() / float(y_true.shape[0])\n",
    "print(f\"accuracy: {100 * acc1.item():.4f}%\")\n",
    "\n",
    "f1 = f1_score(\n",
    "    y_true,\n",
    "    y_predicted,\n",
    ")\n",
    "print(f\"f1 score: {f1:.4f}\")\n",
    "plot_conf_matrix(y_true, y_predicted)"
   ]
  },
  {
   "attachments": {},
   "cell_type": "markdown",
   "metadata": {},
   "source": [
    "The accuracy was also double checked below using the model itself to predict the labels.\n",
    "\n",
    "Now commented out due to the long computation time withou GPU"
   ]
  },
  {
   "cell_type": "code",
   "execution_count": 57,
   "metadata": {},
   "outputs": [
    {
     "data": {
      "text/plain": [
       "' composed = torchvision.transforms.Compose([ToToken(), ToTensor()])\\ndataset = TwitterDataset_small_test(transform=composed)\\n\\nx = dataset.x\\ny = dataset.y\\n\\ncorrect = 0\\n\\nwith torch.no_grad():\\n    for message, label in zip(x, y):\\n        prediction = bz.predict(message, \"positive\")\\n        if round(prediction) == label:\\n            correct += 1\\n\\nacc2 = correct / float(y.shape[0])\\nprint(f\"accuracy: {acc2:.4f}\") '"
      ]
     },
     "execution_count": 57,
     "metadata": {},
     "output_type": "execute_result"
    }
   ],
   "source": [
    "\"\"\" composed = torchvision.transforms.Compose([ToToken(), ToTensor()])\n",
    "dataset = TwitterDataset_small_test(transform=composed)\n",
    "\n",
    "x = dataset.x\n",
    "y = dataset.y\n",
    "\n",
    "correct = 0\n",
    "\n",
    "with torch.no_grad():\n",
    "    for message, label in zip(x, y):\n",
    "        prediction = bz.predict(message, \"positive\")\n",
    "        if round(prediction) == label:\n",
    "            correct += 1\n",
    "\n",
    "acc2 = correct / float(y.shape[0])\n",
    "print(f\"accuracy: {acc2:.4f}\") \"\"\""
   ]
  },
  {
   "attachments": {},
   "cell_type": "markdown",
   "metadata": {},
   "source": [
    "## FeedForward NN"
   ]
  },
  {
   "cell_type": "code",
   "execution_count": 63,
   "metadata": {},
   "outputs": [
    {
     "data": {
      "text/plain": [
       "<All keys matched successfully>"
      ]
     },
     "execution_count": 63,
     "metadata": {},
     "output_type": "execute_result"
    }
   ],
   "source": [
    "from scripts.BinaryFFNN import BinaryFFNN\n",
    "\n",
    "input_size = 512\n",
    "hidden_size = 100\n",
    "PATH = 'models/FFNN_dropout100.pth'\n",
    "\n",
    "model = BinaryFFNN(input_size, hidden_size)  # create an instance of the model\n",
    "model.load_state_dict(torch.load(PATH))  # load the saved state dictionary"
   ]
  },
  {
   "cell_type": "code",
   "execution_count": 64,
   "metadata": {},
   "outputs": [
    {
     "name": "stdout",
     "output_type": "stream",
     "text": [
      "Accuracy of the network on the test set: 76.22 %\n"
     ]
    }
   ],
   "source": [
    "composed = torchvision.transforms.Compose([ToToken(), ToTensor()])\n",
    "test_dataset = TwitterDataset_small_test(transform=composed)\n",
    "\n",
    "test_loader = torch.utils.data.DataLoader(\n",
    "    dataset=test_dataset, batch_size=test_dataset.n_samples\n",
    ")\n",
    "\n",
    "with torch.no_grad():\n",
    "    n_samples = 0\n",
    "    n_correct = 0\n",
    "    for tokens, labels in test_loader: # single batch\n",
    "        outputs = model(tokens)\n",
    "    \n",
    "        predicted_labels = outputs.round()\n",
    "\n",
    "        n_samples += labels.size(0)\n",
    "        n_correct += (predicted_labels == labels).sum().item()\n",
    "\n",
    "\n",
    "        acc = 100.0 * n_correct / n_samples\n",
    "        print(f\"Accuracy of the network on the test set: {acc} %\")"
   ]
  }
 ],
 "metadata": {
  "kernelspec": {
   "display_name": "base",
   "language": "python",
   "name": "python3"
  },
  "language_info": {
   "codemirror_mode": {
    "name": "ipython",
    "version": 3
   },
   "file_extension": ".py",
   "mimetype": "text/x-python",
   "name": "python",
   "nbconvert_exporter": "python",
   "pygments_lexer": "ipython3",
   "version": "3.9.13"
  },
  "orig_nbformat": 4
 },
 "nbformat": 4,
 "nbformat_minor": 2
}
