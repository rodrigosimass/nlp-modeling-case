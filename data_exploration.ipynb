{
    "cells": [
        {
            "attachments": {},
            "cell_type": "markdown",
            "metadata": {},
            "source": [
                "# Exploration of the Twitter dataset"
            ]
        },
        {
            "cell_type": "code",
            "execution_count": 2,
            "metadata": {},
            "outputs": [
                {
                    "name": "stderr",
                    "output_type": "stream",
                    "text": [
                        "/home/rsimas/miniconda3/lib/python3.9/site-packages/tqdm/auto.py:22: TqdmWarning: IProgress not found. Please update jupyter and ipywidgets. See https://ipywidgets.readthedocs.io/en/stable/user_install.html\n",
                        "  from .autonotebook import tqdm as notebook_tqdm\n",
                        "/tmp/ipykernel_1318/1245607375.py:3: DeprecationWarning: `import pandas_profiling` is going to be deprecated by April 1st. Please use `import ydata_profiling` instead.\n",
                        "  import pandas_profiling\n"
                    ]
                }
            ],
            "source": [
                "import pandas as pd\n",
                "from IPython.display import display\n",
                "import pandas_profiling"
            ]
        },
        {
            "attachments": {},
            "cell_type": "markdown",
            "metadata": {},
            "source": [
                "## twitter_dataset_full.csv"
            ]
        },
        {
            "cell_type": "code",
            "execution_count": 3,
            "metadata": {},
            "outputs": [
                {
                    "data": {
                        "text/html": [
                            "<div>\n",
                            "<style scoped>\n",
                            "    .dataframe tbody tr th:only-of-type {\n",
                            "        vertical-align: middle;\n",
                            "    }\n",
                            "\n",
                            "    .dataframe tbody tr th {\n",
                            "        vertical-align: top;\n",
                            "    }\n",
                            "\n",
                            "    .dataframe thead th {\n",
                            "        text-align: right;\n",
                            "    }\n",
                            "</style>\n",
                            "<table border=\"1\" class=\"dataframe\">\n",
                            "  <thead>\n",
                            "    <tr style=\"text-align: right;\">\n",
                            "      <th></th>\n",
                            "      <th>is_positive</th>\n",
                            "      <th>id</th>\n",
                            "      <th>datetime</th>\n",
                            "      <th>user</th>\n",
                            "      <th>message</th>\n",
                            "    </tr>\n",
                            "  </thead>\n",
                            "  <tbody>\n",
                            "    <tr>\n",
                            "      <th>0</th>\n",
                            "      <td>0</td>\n",
                            "      <td>1467810672</td>\n",
                            "      <td>Mon Apr 06 22:19:49 PDT 2009</td>\n",
                            "      <td>scotthamilton</td>\n",
                            "      <td>is upset that he can't update his Facebook by ...</td>\n",
                            "    </tr>\n",
                            "    <tr>\n",
                            "      <th>1</th>\n",
                            "      <td>0</td>\n",
                            "      <td>1467810917</td>\n",
                            "      <td>Mon Apr 06 22:19:53 PDT 2009</td>\n",
                            "      <td>mattycus</td>\n",
                            "      <td>@Kenichan I dived many times for the ball. Man...</td>\n",
                            "    </tr>\n",
                            "    <tr>\n",
                            "      <th>2</th>\n",
                            "      <td>0</td>\n",
                            "      <td>1467811184</td>\n",
                            "      <td>Mon Apr 06 22:19:57 PDT 2009</td>\n",
                            "      <td>ElleCTF</td>\n",
                            "      <td>my whole body feels itchy and like its on fire</td>\n",
                            "    </tr>\n",
                            "    <tr>\n",
                            "      <th>3</th>\n",
                            "      <td>0</td>\n",
                            "      <td>1467811193</td>\n",
                            "      <td>Mon Apr 06 22:19:57 PDT 2009</td>\n",
                            "      <td>Karoli</td>\n",
                            "      <td>@nationwideclass no, it's not behaving at all....</td>\n",
                            "    </tr>\n",
                            "    <tr>\n",
                            "      <th>4</th>\n",
                            "      <td>0</td>\n",
                            "      <td>1467811372</td>\n",
                            "      <td>Mon Apr 06 22:20:00 PDT 2009</td>\n",
                            "      <td>joy_wolf</td>\n",
                            "      <td>@Kwesidei not the whole crew</td>\n",
                            "    </tr>\n",
                            "  </tbody>\n",
                            "</table>\n",
                            "</div>"
                        ],
                        "text/plain": [
                            "   is_positive          id                      datetime           user  \\\n",
                            "0            0  1467810672  Mon Apr 06 22:19:49 PDT 2009  scotthamilton   \n",
                            "1            0  1467810917  Mon Apr 06 22:19:53 PDT 2009       mattycus   \n",
                            "2            0  1467811184  Mon Apr 06 22:19:57 PDT 2009        ElleCTF   \n",
                            "3            0  1467811193  Mon Apr 06 22:19:57 PDT 2009         Karoli   \n",
                            "4            0  1467811372  Mon Apr 06 22:20:00 PDT 2009       joy_wolf   \n",
                            "\n",
                            "                                             message  \n",
                            "0  is upset that he can't update his Facebook by ...  \n",
                            "1  @Kenichan I dived many times for the ball. Man...  \n",
                            "2    my whole body feels itchy and like its on fire   \n",
                            "3  @nationwideclass no, it's not behaving at all....  \n",
                            "4                      @Kwesidei not the whole crew   "
                        ]
                    },
                    "metadata": {},
                    "output_type": "display_data"
                }
            ],
            "source": [
                "df_twitter_full = pd.read_csv(\"data/raw/twitter_dataset_full.csv\", delimiter=\",\")\n",
                "display(df_twitter_full.head())"
            ]
        },
        {
            "cell_type": "code",
            "execution_count": 4,
            "metadata": {},
            "outputs": [
                {
                    "data": {
                        "text/plain": [
                            "' Commented due to huge size of full dataset '"
                        ]
                    },
                    "execution_count": 4,
                    "metadata": {},
                    "output_type": "execute_result"
                }
            ],
            "source": [
                "\"\"\" Commented due to huge size of full dataset \"\"\"\n",
                "#profile = pandas_profiling.ProfileReport(df_twitter_full)\n",
                "#profile.to_file(\"data/reports/twitter_dataset_full_profile_report.html\")"
            ]
        },
        {
            "attachments": {},
            "cell_type": "markdown",
            "metadata": {},
            "source": [
                "### Main take-aways\n",
                "- __is_postive__ is a almost perfectly balanced binary class (0:799999 vs 1:800000).\n",
                "- __id__ was not unique, which lead me to believe that there were some duplicate rows. Upon further inspection with drop_duplicate() I found out that this is not the case, but that some tweets (10) that are classified as both positive and negative due to their ambiguity.\n",
                "- No __missing values__ in the dataset"
            ]
        },
        {
            "attachments": {},
            "cell_type": "markdown",
            "metadata": {},
            "source": [
                "## dataset_small_w_bart_preds.csv"
            ]
        },
        {
            "cell_type": "code",
            "execution_count": 6,
            "metadata": {},
            "outputs": [
                {
                    "data": {
                        "text/html": [
                            "<div>\n",
                            "<style scoped>\n",
                            "    .dataframe tbody tr th:only-of-type {\n",
                            "        vertical-align: middle;\n",
                            "    }\n",
                            "\n",
                            "    .dataframe tbody tr th {\n",
                            "        vertical-align: top;\n",
                            "    }\n",
                            "\n",
                            "    .dataframe thead th {\n",
                            "        text-align: right;\n",
                            "    }\n",
                            "</style>\n",
                            "<table border=\"1\" class=\"dataframe\">\n",
                            "  <thead>\n",
                            "    <tr style=\"text-align: right;\">\n",
                            "      <th></th>\n",
                            "      <th>is_positive</th>\n",
                            "      <th>id</th>\n",
                            "      <th>datetime</th>\n",
                            "      <th>user</th>\n",
                            "      <th>message_clean</th>\n",
                            "      <th>bart_is_positive</th>\n",
                            "    </tr>\n",
                            "  </thead>\n",
                            "  <tbody>\n",
                            "    <tr>\n",
                            "      <th>0</th>\n",
                            "      <td>0</td>\n",
                            "      <td>2323266775</td>\n",
                            "      <td>Thu Jun 25 00:15:43 PDT 2009</td>\n",
                            "      <td>gulti</td>\n",
                            "      <td>had dream sneaked out escape into the</td>\n",
                            "      <td>0.075236</td>\n",
                            "    </tr>\n",
                            "    <tr>\n",
                            "      <th>1</th>\n",
                            "      <td>1</td>\n",
                            "      <td>2192626220</td>\n",
                            "      <td>Tue Jun 16 07:18:56 PDT 2009</td>\n",
                            "      <td>lpgrant</td>\n",
                            "      <td>richmondgl murder train just cracked but you r...</td>\n",
                            "      <td>0.003549</td>\n",
                            "    </tr>\n",
                            "    <tr>\n",
                            "      <th>2</th>\n",
                            "      <td>0</td>\n",
                            "      <td>1824060456</td>\n",
                            "      <td>Sat May 16 23:54:19 PDT 2009</td>\n",
                            "      <td>starlah</td>\n",
                            "      <td>sherrymain thanks for hosting your own birthda...</td>\n",
                            "      <td>0.858189</td>\n",
                            "    </tr>\n",
                            "    <tr>\n",
                            "      <th>3</th>\n",
                            "      <td>0</td>\n",
                            "      <td>2248516272</td>\n",
                            "      <td>Fri Jun 19 20:44:57 PDT 2009</td>\n",
                            "      <td>babymakes7</td>\n",
                            "      <td>angelic rebel umm basically simple math proble...</td>\n",
                            "      <td>0.226053</td>\n",
                            "    </tr>\n",
                            "    <tr>\n",
                            "      <th>4</th>\n",
                            "      <td>1</td>\n",
                            "      <td>2050379110</td>\n",
                            "      <td>Fri Jun 05 18:33:51 PDT 2009</td>\n",
                            "      <td>Gelfand</td>\n",
                            "      <td>middleclassgirl and there nothing wrong with that</td>\n",
                            "      <td>0.498563</td>\n",
                            "    </tr>\n",
                            "  </tbody>\n",
                            "</table>\n",
                            "</div>"
                        ],
                        "text/plain": [
                            "   is_positive          id                      datetime        user  \\\n",
                            "0            0  2323266775  Thu Jun 25 00:15:43 PDT 2009       gulti   \n",
                            "1            1  2192626220  Tue Jun 16 07:18:56 PDT 2009     lpgrant   \n",
                            "2            0  1824060456  Sat May 16 23:54:19 PDT 2009     starlah   \n",
                            "3            0  2248516272  Fri Jun 19 20:44:57 PDT 2009  babymakes7   \n",
                            "4            1  2050379110  Fri Jun 05 18:33:51 PDT 2009     Gelfand   \n",
                            "\n",
                            "                                       message_clean  bart_is_positive  \n",
                            "0              had dream sneaked out escape into the          0.075236  \n",
                            "1  richmondgl murder train just cracked but you r...          0.003549  \n",
                            "2  sherrymain thanks for hosting your own birthda...          0.858189  \n",
                            "3  angelic rebel umm basically simple math proble...          0.226053  \n",
                            "4  middleclassgirl and there nothing wrong with that          0.498563  "
                        ]
                    },
                    "metadata": {},
                    "output_type": "display_data"
                }
            ],
            "source": [
                "df_twitter_small = pd.read_csv(\n",
                "    \"data/raw/dataset_small_w_bart_preds.csv\",\n",
                "    delimiter=\",\",\n",
                "    float_precision=\"round_trip\",\n",
                ")\n",
                "display(df_twitter_small.head())"
            ]
        },
        {
            "cell_type": "code",
            "execution_count": 7,
            "metadata": {},
            "outputs": [
                {
                    "name": "stderr",
                    "output_type": "stream",
                    "text": [
                        "Summarize dataset: 100%|██████████| 19/19 [00:01<00:00, 10.56it/s, Completed]                                 \n",
                        "Generate report structure: 100%|██████████| 1/1 [00:00<00:00,  1.02it/s]\n",
                        "Render HTML: 100%|██████████| 1/1 [00:00<00:00,  2.73it/s]\n",
                        "Export report to file: 100%|██████████| 1/1 [00:00<00:00, 45.86it/s]\n"
                    ]
                }
            ],
            "source": [
                "profile = pandas_profiling.ProfileReport(df_twitter_small)\n",
                "profile.to_file(\"data/reports/dataset_small_w_bart_preds_profile_report.html\")"
            ]
        },
        {
            "attachments": {},
            "cell_type": "markdown",
            "metadata": {},
            "source": [
                "### Main take-aways\n",
                "- __is_postive__ is a almost perfectly balanced binary class (0:9911 vs 1:10089).\n",
                "- __id__ was not unique, because 1 tweet is classified as both positive and negative due to its ambiguity.\n",
                "- the dataset has 1 __missing values__ in the field __message_clean__."
            ]
        },
        {
            "attachments": {},
            "cell_type": "markdown",
            "metadata": {},
            "source": [
                "__NOTE__: By inspecting the original dataset, I concluded that the missing value in __message_clean__ is not missing data in the original message.\n",
                "Due to the shortness of the message, the BART encoding probabily masked too many tokens and thus decoded an empty message."
            ]
        },
        {
            "attachments": {},
            "cell_type": "markdown",
            "metadata": {},
            "source": [
                "## joint dataset\n",
                "Let us create a dataset with both the original __message__ and the __message_clean__ from bart."
            ]
        },
        {
            "cell_type": "code",
            "execution_count": 8,
            "metadata": {},
            "outputs": [
                {
                    "name": "stdout",
                    "output_type": "stream",
                    "text": [
                        "(20000, 6)\n",
                        "(20000, 7)\n"
                    ]
                },
                {
                    "data": {
                        "text/html": [
                            "<div>\n",
                            "<style scoped>\n",
                            "    .dataframe tbody tr th:only-of-type {\n",
                            "        vertical-align: middle;\n",
                            "    }\n",
                            "\n",
                            "    .dataframe tbody tr th {\n",
                            "        vertical-align: top;\n",
                            "    }\n",
                            "\n",
                            "    .dataframe thead th {\n",
                            "        text-align: right;\n",
                            "    }\n",
                            "</style>\n",
                            "<table border=\"1\" class=\"dataframe\">\n",
                            "  <thead>\n",
                            "    <tr style=\"text-align: right;\">\n",
                            "      <th></th>\n",
                            "      <th>is_positive</th>\n",
                            "      <th>id</th>\n",
                            "      <th>datetime</th>\n",
                            "      <th>user</th>\n",
                            "      <th>message_clean</th>\n",
                            "      <th>bart_is_positive</th>\n",
                            "      <th>message</th>\n",
                            "    </tr>\n",
                            "  </thead>\n",
                            "  <tbody>\n",
                            "    <tr>\n",
                            "      <th>0</th>\n",
                            "      <td>0</td>\n",
                            "      <td>2323266775</td>\n",
                            "      <td>Thu Jun 25 00:15:43 PDT 2009</td>\n",
                            "      <td>gulti</td>\n",
                            "      <td>had dream sneaked out escape into the</td>\n",
                            "      <td>0.075236</td>\n",
                            "      <td>I had a dream, it sneaked out to escape into t...</td>\n",
                            "    </tr>\n",
                            "    <tr>\n",
                            "      <th>1</th>\n",
                            "      <td>1</td>\n",
                            "      <td>2192626220</td>\n",
                            "      <td>Tue Jun 16 07:18:56 PDT 2009</td>\n",
                            "      <td>lpgrant</td>\n",
                            "      <td>richmondgl murder train just cracked but you r...</td>\n",
                            "      <td>0.003549</td>\n",
                            "      <td>@RichmondGL Ha! Murder Train just cracked me u...</td>\n",
                            "    </tr>\n",
                            "  </tbody>\n",
                            "</table>\n",
                            "</div>"
                        ],
                        "text/plain": [
                            "   is_positive          id                      datetime     user  \\\n",
                            "0            0  2323266775  Thu Jun 25 00:15:43 PDT 2009    gulti   \n",
                            "1            1  2192626220  Tue Jun 16 07:18:56 PDT 2009  lpgrant   \n",
                            "\n",
                            "                                       message_clean  bart_is_positive  \\\n",
                            "0              had dream sneaked out escape into the          0.075236   \n",
                            "1  richmondgl murder train just cracked but you r...          0.003549   \n",
                            "\n",
                            "                                             message  \n",
                            "0  I had a dream, it sneaked out to escape into t...  \n",
                            "1  @RichmondGL Ha! Murder Train just cracked me u...  "
                        ]
                    },
                    "metadata": {},
                    "output_type": "display_data"
                }
            ],
            "source": [
                "df_joint = df_twitter_small.merge(\n",
                "    df_twitter_full, on=[\"is_positive\", \"id\", \"datetime\", \"user\"], how=\"left\"\n",
                ")  # all but message to prevent renaming sufixes\n",
                "\n",
                "print(df_twitter_small.shape)\n",
                "print(df_joint.shape)\n",
                "display(df_joint.head(2))"
            ]
        },
        {
            "cell_type": "code",
            "execution_count": 9,
            "metadata": {},
            "outputs": [
                {
                    "name": "stderr",
                    "output_type": "stream",
                    "text": [
                        "/home/rsimas/miniconda3/lib/python3.9/site-packages/dateutil/parser/_parser.py:1207: UnknownTimezoneWarning: tzname PDT identified but not understood.  Pass `tzinfos` argument in order to correctly return a timezone-aware datetime.  In a future version, this will raise an exception.\n",
                        "  warnings.warn(\"tzname {tzname} identified but not understood.  \"\n"
                    ]
                },
                {
                    "name": "stdout",
                    "output_type": "stream",
                    "text": [
                        "<class 'pandas.core.frame.DataFrame'>\n",
                        "Int64Index: 20000 entries, 0 to 19999\n",
                        "Data columns (total 7 columns):\n",
                        " #   Column            Non-Null Count  Dtype         \n",
                        "---  ------            --------------  -----         \n",
                        " 0   is_positive       20000 non-null  int64         \n",
                        " 1   id                20000 non-null  int64         \n",
                        " 2   datetime          20000 non-null  datetime64[ns]\n",
                        " 3   user              20000 non-null  object        \n",
                        " 4   message_clean     19999 non-null  object        \n",
                        " 5   bart_is_positive  20000 non-null  float64       \n",
                        " 6   message           20000 non-null  object        \n",
                        "dtypes: datetime64[ns](1), float64(1), int64(2), object(3)\n",
                        "memory usage: 1.2+ MB\n"
                    ]
                }
            ],
            "source": [
                "df_joint[\"datetime\"] = pd.to_datetime(df_joint[\"datetime\"])\n",
                "df_joint.info()"
            ]
        },
        {
            "cell_type": "code",
            "execution_count": 10,
            "metadata": {},
            "outputs": [
                {
                    "name": "stderr",
                    "output_type": "stream",
                    "text": [
                        "Summarize dataset: 100%|██████████| 20/20 [00:02<00:00,  9.22it/s, Completed]                                 \n",
                        "Generate report structure: 100%|██████████| 1/1 [00:01<00:00,  1.30s/it]\n",
                        "Render HTML: 100%|██████████| 1/1 [00:00<00:00,  3.51it/s]\n",
                        "Export report to file: 100%|██████████| 1/1 [00:00<00:00, 126.14it/s]\n"
                    ]
                }
            ],
            "source": [
                "profile = pandas_profiling.ProfileReport(df_joint)\n",
                "profile.to_file(\n",
                "    \"data/reports/dataset_small_w_bart_preds_and_original_message_profile_report.html\"\n",
                ")"
            ]
        },
        {
            "cell_type": "code",
            "execution_count": null,
            "metadata": {},
            "outputs": [],
            "source": [
                "df_joint.to_csv(\"data/processed/dataset_small_w_bart_preds_and_original_message.csv\", index=False)"
            ]
        },
        {
            "attachments": {},
            "cell_type": "markdown",
            "metadata": {},
            "source": [
                "### Bart is negative\n",
                "Even though the data is evenly balanced between positive and negative examples, BART predicts the messages not to be positive most of the times:\n",
                "\n",
                "![Alt text](img/bart_is_positive_histo.png)\n"
            ]
        }
    ],
    "metadata": {
        "kernelspec": {
            "display_name": "base",
            "language": "python",
            "name": "python3"
        },
        "language_info": {
            "codemirror_mode": {
                "name": "ipython",
                "version": 3
            },
            "file_extension": ".py",
            "mimetype": "text/x-python",
            "name": "python",
            "nbconvert_exporter": "python",
            "pygments_lexer": "ipython3",
            "version": "3.9.13"
        },
        "orig_nbformat": 4
    },
    "nbformat": 4,
    "nbformat_minor": 2
}
