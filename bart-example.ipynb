{
 "cells": [
  {
   "cell_type": "code",
   "execution_count": null,
   "metadata": {},
   "outputs": [],
   "source": [
    "import pandas as pd\n",
    "import torch\n",
    "from transformers import BartForSequenceClassification, BartTokenizer, __version__ as tv\n",
    "import numpy as np\n",
    "\n",
    "\n",
    "'''\n",
    "\n",
    "Bart model is from the Transformers package by Huggingface\n",
    "https://github.com/huggingface/transformers\n",
    "\n",
    "Our version: 3.3.1\n",
    "\n",
    "'''\n",
    "\n",
    "\n",
    "print(tv)\n",
    "\n",
    "\n",
    "DEVICE = 'cpu'\n",
    "\n",
    "class BartZeroShot:\n",
    "    def __init__(self):\n",
    "\n",
    "        self.nli_model = BartForSequenceClassification.from_pretrained('facebook/bart-large-mnli')\n",
    "        self.nli_model = self.nli_model.to(DEVICE)\n",
    "        self.tokenizer = BartTokenizer.from_pretrained('facebook/bart-large-mnli')\n",
    "\n",
    "    def predict(self, sentence, label):\n",
    "        x = self.tokenizer.encode(sentence, f'this text is {label}',#f'This text is about {label}.',\n",
    "                             return_tensors='pt',\n",
    "                             max_length=self.tokenizer.model_max_length,\n",
    "                             truncation = True,     \n",
    "                             truncation_strategy='only_first')\n",
    "        logits = self.nli_model(x.to(DEVICE))[0]\n",
    "\n",
    "        entail_contradiction_logits = logits[:,[0,2]]\n",
    "        probs = entail_contradiction_logits.softmax(1)\n",
    "        prob_label_is_true = probs[:,1].item()\n",
    "        return prob_label_is_true"
   ]
  },
  {
   "cell_type": "code",
   "execution_count": null,
   "metadata": {},
   "outputs": [],
   "source": [
    "bz = BartZeroShot()"
   ]
  },
  {
   "cell_type": "code",
   "execution_count": null,
   "metadata": {},
   "outputs": [],
   "source": [
    "bz.predict('I really really hate my life', 'positive')"
   ]
  },
  {
   "cell_type": "code",
   "execution_count": null,
   "metadata": {},
   "outputs": [],
   "source": [
    "bz.predict('I really really love my life', 'positive')"
   ]
  }
 ],
 "metadata": {
  "kernelspec": {
   "display_name": "Python 3",
   "language": "python",
   "name": "python3"
  },
  "language_info": {
   "codemirror_mode": {
    "name": "ipython",
    "version": 3
   },
   "file_extension": ".py",
   "mimetype": "text/x-python",
   "name": "python",
   "nbconvert_exporter": "python",
   "pygments_lexer": "ipython3",
   "version": "3.9.13"
  }
 },
 "nbformat": 4,
 "nbformat_minor": 4
}
